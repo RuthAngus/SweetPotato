{
 "cells": [
  {
   "cell_type": "markdown",
   "metadata": {},
   "source": [
    "# Planet occurrence rates as a function of period, radius and [cdpp]"
   ]
  },
  {
   "cell_type": "code",
   "execution_count": 2,
   "metadata": {
    "collapsed": true
   },
   "outputs": [],
   "source": [
    "import matplotlib.pyplot as pl\n",
    "import numpy as np\n",
    "%matplotlib inline\n",
    "import seaborn\n",
    "import pandas as pd\n",
    "\n",
    "from __future__ import division, print_function\n",
    "import os\n",
    "import requests\n",
    "import pandas as pd\n",
    "from io import StringIO, BytesIO\n",
    "\n",
    "from scipy.stats import gamma"
   ]
  },
  {
   "cell_type": "code",
   "execution_count": 146,
   "metadata": {
    "collapsed": false
   },
   "outputs": [],
   "source": [
    "def get_catalog(name, basepath=\"data\"):\n",
    "    fn = os.path.join(basepath, \"{0}.h5\".format(name))\n",
    "    if os.path.exists(fn):\n",
    "        return pd.read_hdf(fn, name)\n",
    "    if not os.path.exists(basepath):\n",
    "        os.makedirs(basepath)\n",
    "    print(\"Downloading {0}...\".format(name))\n",
    "    url = (\"http://exoplanetarchive.ipac.caltech.edu/cgi-bin/nstedAPI/\"\n",
    "           \"nph-nstedAPI?table={0}&select=*\").format(name)\n",
    "    r = requests.get(url)\n",
    "    if r.status_code != requests.codes.ok:\n",
    "        r.raise_for_status()\n",
    "    fh = BytesIO(r.content)\n",
    "    df = pd.read_csv(fh)\n",
    "    df.to_hdf(fn, name, format=\"t\")\n",
    "    return df\n",
    "\n",
    "\n",
    "def selection(stlr, ranges):\n",
    "    # Select G and K dwarfs.\n",
    "    m = (4200 <= stlr.teff) & (stlr.teff <= 6100)\n",
    "    m &= stlr.radius <= 1.15\n",
    "\n",
    "    # Only include stars with sufficient data coverage.\n",
    "    m &= stlr.dataspan > 365.25*2.\n",
    "    m &= stlr.dutycycle > 0.6\n",
    "    m &= stlr.rrmscdpp07p5 <= 1000.\n",
    "\n",
    "    # Only select stars with mass estimates.\n",
    "    m &= np.isfinite(stlr.mass)\n",
    "\n",
    "    base_stlr = pd.DataFrame(stlr)\n",
    "    stlr = pd.DataFrame(stlr[m])\n",
    "\n",
    "    print(\"Selected {0} targets after cuts\".format(len(stlr)))\n",
    "    \n",
    "    kois = get_catalog(\"q1_q16_koi\")\n",
    "\n",
    "    period_rng, rp_rng, c_rng = ranges\n",
    "\n",
    "    # Join on the stellar list.\n",
    "    kois = pd.merge(kois, stlr, on=\"kepid\", how=\"inner\")\n",
    "    \n",
    "    # Only select the KOIs in the relevant part of parameter space.\n",
    "    m = kois.koi_pdisposition == \"CANDIDATE\"\n",
    "    base_kois = pd.DataFrame(kois[m])\n",
    "    m &= (period_rng[0] <= kois.koi_period) & (kois.koi_period <= period_rng[1])\n",
    "    m &= np.isfinite(kois.koi_prad) & (rp_rng[0] <= kois.koi_prad) & (kois.koi_prad <= rp_rng[1])\n",
    "    #m &= (c_rng[0] <= kois.rrmscdpp06p0) & (kois.rrmscdpp06p0 <= c_rng[1])\n",
    "\n",
    "    kois = pd.DataFrame(kois[m])\n",
    "\n",
    "    print(\"Selected {0} KOIs after cuts\".format(len(kois)))\n",
    "    \n",
    "    yerr = np.abs(np.array(base_kois[[\"koi_prad_err2\", \"koi_prad_err1\"]])).T\n",
    "    pl.errorbar(base_kois.koi_period, base_kois.koi_prad, yerr=yerr, fmt=\".k\", ms=4,\n",
    "                capsize=0, alpha=0.3)\n",
    "    pl.plot(kois.koi_period, kois.koi_prad, \".k\", ms=6)\n",
    "    pl.fill_between(period_rng, [rp_rng[1], rp_rng[1]], [rp_rng[0], rp_rng[0]], color=\"g\", alpha=0.2)\n",
    "    pl.xlim(period_rng + 10 * np.array([-1, 1]))\n",
    "    pl.ylim(rp_rng + 0.5 * np.array([-1, 1]))\n",
    "    pl.xlabel(\"period [days]\")\n",
    "    pl.ylabel(\"$R_p \\, [R_\\oplus]$\");\n",
    "    \n",
    "    return stlr, kois\n",
    "\n",
    "\n",
    "def get_duration(period, aor, e):\n",
    "    \"\"\"\n",
    "    Equation (1) from Burke et al. This estimates the transit\n",
    "    duration in the same units as the input period. There is a\n",
    "    typo in the paper (24/4 = 6 != 4).\n",
    "    \n",
    "    :param period: the period in any units of your choosing\n",
    "    :param aor:    the dimensionless semi-major axis (scaled\n",
    "                   by the stellar radius)\n",
    "    :param e:      the eccentricity of the orbit\n",
    "    \n",
    "    \"\"\"\n",
    "    return 0.25 * period * np.sqrt(1 - e**2) / aor\n",
    "\n",
    "def get_a(period, mstar, Go4pi=2945.4625385377644/(4*np.pi*np.pi)):\n",
    "    \"\"\"\n",
    "    Compute the semi-major axis of an orbit in Solar radii.\n",
    "    \n",
    "    :param period: the period in days\n",
    "    :param mstar:  the stellar mass in Solar masses\n",
    "    \n",
    "    \"\"\"\n",
    "    return (Go4pi*period*period*mstar) ** (1./3)\n",
    "\n",
    "\n",
    "def get_delta(k, c=1.0874, s=1.0187):\n",
    "    \"\"\"\n",
    "    Estimate the approximate expected transit depth as a function\n",
    "    of radius ratio. There might be a typo here. In the paper it\n",
    "    uses c + s*k but in the public code, it is c - s*k:\n",
    "    https://github.com/christopherburke/KeplerPORTs\n",
    "    \n",
    "    :param k: the dimensionless radius ratio between the planet and\n",
    "              the star\n",
    "    \n",
    "    \"\"\"\n",
    "    delta_max = k*k * (c + s*k)\n",
    "    return 0.84 * delta_max\n",
    "\n",
    "\n",
    "def get_mes(star, period, rp, tau, re=0.009171):\n",
    "    \"\"\"\n",
    "    Estimate the multiple event statistic value for a transit.\n",
    "    \n",
    "    :param star:   a pandas row giving the stellar properties\n",
    "    :param period: the period in days\n",
    "    :param rp:     the planet radius in Earth radii\n",
    "    :param tau:    the transit duration in hours\n",
    "    \n",
    "    \"\"\"\n",
    "    # Interpolate to the correct CDPP for the duration.\n",
    "    cdpp = np.array(star[cdpp_cols], dtype=float)\n",
    "    sigma = np.interp(tau, cdpp_vals, cdpp)\n",
    "\n",
    "    # Compute the radius ratio and estimate the S/N.\n",
    "    k = rp * re / star.radius\n",
    "    snr = get_delta(k) * 1e6 / sigma\n",
    "    \n",
    "    # Scale by the estimated number of transits.\n",
    "    ntrn = star.dataspan * star.dutycycle / period \n",
    "    return snr * np.sqrt(ntrn)\n",
    "\n",
    "\n",
    "def get_pdet(star, aor, period, rp, e):\n",
    "    \"\"\"\n",
    "    Equation (5) from Burke et al. Estimate the detection efficiency\n",
    "    for a transit.\n",
    "    \n",
    "    :param star:   a pandas row giving the stellar properties\n",
    "    :param aor:    the dimensionless semi-major axis (scaled\n",
    "                   by the stellar radius)\n",
    "    :param period: the period in days\n",
    "    :param rp:     the planet radius in Earth radii\n",
    "    :param e:      the orbital eccentricity\n",
    "    \n",
    "    \"\"\"\n",
    "    tau = get_duration(period, aor, e) * 24.\n",
    "    mes = get_mes(star, period, rp, tau)\n",
    "    mest = np.interp(tau, mesthres_vals,\n",
    "                     np.array(star[mesthres_cols],\n",
    "                              dtype=float))\n",
    "    x = mes - 4.1 - (mest - 7.1)\n",
    "    return pgam.cdf(x)\n",
    "\n",
    "\n",
    "def get_pwin(star, period):\n",
    "    \"\"\"\n",
    "    Equation (6) from Burke et al. Estimates the window function\n",
    "    using a binomial distribution.\n",
    "    \n",
    "    :param star:   a pandas row giving the stellar properties\n",
    "    :param period: the period in days\n",
    "    \n",
    "    \"\"\"\n",
    "    M = star.dataspan / period\n",
    "    f = star.dutycycle\n",
    "    omf = 1.0 - f\n",
    "    pw = 1 - omf**M - M*f*omf**(M-1) - 0.5*M*(M-1)*f*f*omf**(M-2)\n",
    "    msk = (pw >= 0.0) * (M >= 2.0)\n",
    "    return pw * msk\n",
    "\n",
    "\n",
    "def get_pgeom(aor, e):\n",
    "    \"\"\"\n",
    "    The geometric transit probability.\n",
    "    \n",
    "    See e.g. Kipping (2014) for the eccentricity factor\n",
    "    http://arxiv.org/abs/1408.1393\n",
    "    \n",
    "    :param aor: the dimensionless semi-major axis (scaled\n",
    "                by the stellar radius)\n",
    "    :param e:   the orbital eccentricity\n",
    "\n",
    "    \"\"\"\n",
    "    return 1. / (aor * (1 - e*e)) * (aor > 1.0)\n",
    "\n",
    "\n",
    "def get_completeness(star, period, rp, c_grid, c, e, with_geom=True):\n",
    "    \"\"\"\n",
    "    A helper function to combine all the completeness effects.\n",
    "    \n",
    "    :param star:      a pandas row giving the stellar properties\n",
    "    :param period:    the period in days\n",
    "    :param c_grid:    the stellar property grid\n",
    "    :param c:         the stellar property of this star.\n",
    "    :param rp:        the planet radius in Earth radii\n",
    "    :param e:         the orbital eccentricity\n",
    "    :param with_geom: include the geometric transit probability?\n",
    "    \n",
    "    \"\"\"\n",
    "    # Find the [stellar property] bin the star goes into.\n",
    "    # FIXME: i is the lower bin edge. Adjust everything by 1/2 bin?\n",
    "    ind = 1000\n",
    "    cdiffs = np.diff(c_grid[0, 0, :])\n",
    "    for i, d in enumerate(cdiffs):\n",
    "        if c_grid[0, 0, i] <= c and c < (c_grid[0, 0, i] + d):\n",
    "            ind = i\n",
    "    # cmin, cmax = c_grid[0, 0, i], c_grid[0, 0, i + 1]\n",
    "\n",
    "    # calculate the completeness over the period and radius grid for just that temperature.\n",
    "    # FIXME: i is the lower bin edge. Adjust everything by 1/2 bin?\n",
    "    aor, pdet, pwin, pgeom = [np.zeros(period.shape) for j in range(4)]\n",
    "    aor[:, :, ind] = get_a(period[:, :, ind], star.mass) / star.radius\n",
    "    pdet[:, :, ind] = get_pdet(star, aor[:, :, ind], period[:, :, ind], rp[:, :, ind], e)\n",
    "    pwin[:, :, ind] = get_pwin(star, period[:, :, ind])\n",
    "    if not with_geom:\n",
    "        return pdet * pwin\n",
    "    pgeom[:, :, ind] = get_pgeom(aor[:, :, ind], e)\n",
    "    return pdet * pwin * pgeom\n",
    "\n",
    "\n",
    "def calc_completeness_for_each_star(ranges, grid_sizes, param_string):    \n",
    "    x = np.linspace(ranges[0][0], ranges[0][1], grid_sizes[0])\n",
    "    y = np.linspace(ranges[1][0], ranges[1][1], grid_sizes[1])\n",
    "    z = np.linspace(ranges[2][0], ranges[2][1], grid_sizes[2])\n",
    "    xgrid, ygrid, zgrid = np.meshgrid(x, y, z, indexing=\"ij\")\n",
    "    comp = np.zeros_like(xgrid)\n",
    "    nstar = 0\n",
    "    for _, star in stlr.iterrows():\n",
    "        comp += get_completeness(star, xgrid, ygrid, zgrid, star[\"{}\".format(param_string)], 0.0, with_geom=True)\n",
    "        nstar += 1\n",
    "    return comp/nstar, xgrid, ygrid, zgrid\n",
    "\n",
    "\n",
    "def plot_obs_and_get_bin_edges(var_names, nbins, ranges, log=False):\n",
    "    \"\"\"    \n",
    "    Make histograms of the observed planet properties. Plot the histograms and return the edges of the bins.\n",
    "    params:\n",
    "    --------\n",
    "    var_names: (list)\n",
    "    A list of strings of variable names. \"period\", \"radius\", e.g.\n",
    "    nbins: (list)\n",
    "    A list of the number of bins for each variable.\n",
    "    ranges: (list)\n",
    "    A list of tuples of variable ranges.\n",
    "    log: (bool)\n",
    "    Whether to make bins in linear or log space.\n",
    "    \n",
    "    returns:\n",
    "    --------\n",
    "    bins: (list)\n",
    "    A list of lists of bin edges. One list for each variable.\n",
    "    \"\"\"\n",
    "    nvar = len(var_names)\n",
    "    \n",
    "    # Define the bin edges.\n",
    "    bins = []\n",
    "    \n",
    "    # Logarithmic.\n",
    "    if log:\n",
    "        for i in range(nvar):\n",
    "            bins.append(np.exp(np.linspace(np.log(ranges[i][0]), np.log(ranges[i][1]), nbins[i])))\n",
    "    \n",
    "    # Linear\n",
    "    else:\n",
    "        for i in range(nvar):\n",
    "            bins.append(np.linspace(ranges[i][0], ranges[i][1], nbins[i]))\n",
    "    \n",
    "    for i in range(nvar):\n",
    "        hist, _ = np.histogram(kois[\"{}\".format(var_names[i])], bins[i])\n",
    "        pl.step(bins[i][:-1] + .5 * np.diff(bins[i]), hist)\n",
    "        pl.xlabel(\"{}\".format(var_names[i]))\n",
    "        pl.ylabel(\"# planets\")\n",
    "        pl.show()    \n",
    "    return bins\n",
    "\n",
    "\n",
    "def plot_marginal_completeness():\n",
    "    # Period vs radius\n",
    "    pl.pcolor(x_grid, y_grid, marg_comp, cmap=\"BuGn\")\n",
    "    #c = pl.contour(period_grid[:, :, 0], rp_grid[:, :, 0], comp[:, :, 0] / len(stlr),\n",
    "    #               colors=\"k\", alpha=0.8)\n",
    "    #pl.clabel(c, fontsize=12, inline=1, fmt=\"%.3f\")\n",
    "    pl.title(\"mean pipeline detection efficiency\")\n",
    "    pl.xlabel(\"Period [days]\")\n",
    "    pl.ylabel(\"$R_p \\, [R_\\oplus]$\");\n",
    "    pl.colorbar()\n",
    "    #for b in bins[0]:\n",
    "    #    pl.axvline(b, color=\".5\", ls=\"--\")\n",
    "    #for b in bins[1]:\n",
    "    #    pl.axhline(b, color=\".5\", ls=\"--\")\n",
    "    pl.show()\n",
    "    \n",
    "\n",
    "def plot_det_eff_3d(grids, comp, label):\n",
    "    period_grid, rp_grid, c_grid = grids\n",
    "    \n",
    "    # Marginalize over the extra dimensions\n",
    "    # period_grid marginalized over stellar parameter.\n",
    "    print(np.shape(period_grid), \"period = 9, radius = 11, c = 10\")\n",
    "    p_moc = np.sum(period_grid, axis=2)\n",
    "    print(np.shape(p_moc))\n",
    "    assert 0\n",
    "    \n",
    "    # Period vs radius\n",
    "    pl.pcolor(period_grid[:, :, 0], rp_grid[:, :, 0], comp[:, :, 0], cmap=\"BuGn\")\n",
    "    #c = pl.contour(period_grid[:, :, 0], rp_grid[:, :, 0], comp[:, :, 0] / len(stlr),\n",
    "    #               colors=\"k\", alpha=0.8)\n",
    "    #pl.clabel(c, fontsize=12, inline=1, fmt=\"%.3f\")\n",
    "    pl.title(\"mean pipeline detection efficiency\")\n",
    "    pl.xlabel(\"Period [days]\")\n",
    "    pl.ylabel(\"$R_p \\, [R_\\oplus]$\");\n",
    "    pl.colorbar()\n",
    "    #for b in bins[0]:\n",
    "    #    pl.axvline(b, color=\".5\", ls=\"--\")\n",
    "    #for b in bins[1]:\n",
    "    #    pl.axhline(b, color=\".5\", ls=\"--\")\n",
    "    pl.show()\n",
    "        \n",
    "    # CDPP vs radius\n",
    "    pl.pcolor(rp_grid[0, :, :], c_grid[0, :, :], comp[0, :, :], cmap=\"BuGn\")\n",
    "    #c = pl.contour(rp_grid[0, :, :], c_grid[0, :, :], comp[0, :, :] / len(stlr),\n",
    "    #               colors=\"k\", alpha=0.8)\n",
    "    #pl.clabel(c, fontsize=12, inline=1, fmt=\"%.3f\")\n",
    "    pl.title(\"mean pipeline detection efficiency\")\n",
    "    pl.xlabel(\"Radius\")\n",
    "    pl.ylabel(\"{}\".format(label));\n",
    "    pl.colorbar()\n",
    "    #for b in bins[1]:\n",
    "    #    pl.axvline(b, color=\".5\", ls=\"--\")\n",
    "    #for b in bins[2]:\n",
    "    #    pl.axhline(b, color=\".5\", ls=\"--\")\n",
    "    pl.show()\n",
    "    \n",
    "    # CDPP vs period\n",
    "    pl.pcolor(period_grid[:, 0, :], c_grid[:, 0, :], comp[:, 0, :], cmap=\"BuGn\")\n",
    "    #c = pl.contour(period_grid[:, 0, :], c_grid[:, 0, :], comp[:, 0, :] / len(stlr),\n",
    "    #               colors=\"k\", alpha=0.8)\n",
    "    #pl.clabel(c, fontsize=12, inline=1, fmt=\"%.3f\")\n",
    "    pl.title(\"mean pipeline detection efficiency\")\n",
    "    pl.xlabel(\"Orbital period [Days]\")\n",
    "    pl.ylabel(\"{}\".format(label));\n",
    "    pl.colorbar()\n",
    "    #for b in bins[0]:\n",
    "    #    pl.axvline(b, color=\".5\", ls=\"--\")\n",
    "    #for b in bins[2]:\n",
    "    #    pl.axhline(b, color=\".5\", ls=\"--\")\n",
    "    pl.show()"
   ]
  },
  {
   "cell_type": "code",
   "execution_count": 4,
   "metadata": {
    "collapsed": true
   },
   "outputs": [],
   "source": [
    "stlr = get_catalog(\"q1_q16_stellar\")"
   ]
  },
  {
   "cell_type": "code",
   "execution_count": 5,
   "metadata": {
    "collapsed": false
   },
   "outputs": [
    {
     "name": "stdout",
     "output_type": "stream",
     "text": [
      "Index(['kepid', 'tm_designation', 'teff', 'teff_err1', 'teff_err2', 'logg',\n",
      "       'logg_err1', 'logg_err2', 'feh', 'feh_err1', 'feh_err2', 'mass',\n",
      "       'mass_err1', 'mass_err2', 'radius', 'radius_err1', 'radius_err2',\n",
      "       'dens', 'dens_err1', 'dens_err2', 'prov_sec', 'kepmag',\n",
      "       'limbdark_coeff1', 'limbdark_coeff2', 'limbdark_coeff3',\n",
      "       'limbdark_coeff4', 'dist', 'dist_err1', 'dist_err2', 'nconfp', 'nkoi',\n",
      "       'ntce', 'datalink_dvr', 'st_delivname', 'st_vet_date_str', 'ra', 'dec',\n",
      "       'st_quarters', 'teff_prov', 'logg_prov', 'feh_prov', 'jmag', 'jmag_err',\n",
      "       'hmag', 'hmag_err', 'kmag', 'kmag_err', 'dutycycle', 'dataspan',\n",
      "       'mesthres01p5', 'mesthres02p0', 'mesthres02p5', 'mesthres03p0',\n",
      "       'mesthres03p5', 'mesthres04p5', 'mesthres05p0', 'mesthres06p0',\n",
      "       'mesthres07p5', 'mesthres09p0', 'mesthres10p5', 'mesthres12p0',\n",
      "       'mesthres12p5', 'mesthres15p0', 'rrmscdpp01p5', 'rrmscdpp02p0',\n",
      "       'rrmscdpp02p5', 'rrmscdpp03p0', 'rrmscdpp03p5', 'rrmscdpp04p5',\n",
      "       'rrmscdpp05p0', 'rrmscdpp06p0', 'rrmscdpp07p5', 'rrmscdpp09p0',\n",
      "       'rrmscdpp10p5', 'rrmscdpp12p0', 'rrmscdpp12p5', 'rrmscdpp15p0', 'av',\n",
      "       'av_err1', 'av_err2', 'dutycycle_post', 'dataspan_post', 'timeout01p5',\n",
      "       'timeout02p0', 'timeout02p5', 'timeout03p0', 'timeout03p5',\n",
      "       'timeout04p5', 'timeout05p0', 'timeout06p0', 'timeout07p5',\n",
      "       'timeout09p0', 'timeout10p5', 'timeout12p0', 'timeout12p5',\n",
      "       'timeout15p0', 'timeoutsumry', 'cdppslplong', 'cdppslpshrt'],\n",
      "      dtype='object')\n"
     ]
    }
   ],
   "source": [
    "print(stlr.keys())"
   ]
  },
  {
   "cell_type": "code",
   "execution_count": 80,
   "metadata": {
    "collapsed": false
   },
   "outputs": [
    {
     "name": "stdout",
     "output_type": "stream",
     "text": [
      "Selected 91446 targets after cuts\n",
      "Selected 154 KOIs after cuts\n"
     ]
    },
    {
     "data": {
      "image/png": "[encoded data removed]",
      "text/plain": [
       "<matplotlib.figure.Figure at 0x126b10908>"
      ]
     },
     "metadata": {},
     "output_type": "display_data"
    },
    {
     "data": {
      "image/png": "[encoded data removed]",
      "text/plain": [
       "<matplotlib.figure.Figure at 0x126c0fd68>"
      ]
     },
     "metadata": {},
     "output_type": "display_data"
    },
    {
     "data": {
      "image/png": "[encoded data removed]",
      "text/plain": [
       "<matplotlib.figure.Figure at 0x126bf3208>"
      ]
     },
     "metadata": {},
     "output_type": "display_data"
    }
   ],
   "source": [
    "cdpp_cols = [k for k in stlr.keys() if k.startswith(\"rrmscdpp\")]\n",
    "cdpp_vals = np.array([k[-4:].replace(\"p\", \".\") for k in cdpp_cols], dtype=float)\n",
    "\n",
    "# Pre-compute and freeze the gamma function from Equation (5) in\n",
    "# Burke et al.\n",
    "pgam = gamma(4.65, loc=0., scale=0.98)\n",
    "mesthres_cols = [k for k in stlr.keys() if k.startswith(\"mesthres\")]\n",
    "mesthres_vals = np.array([k[-4:].replace(\"p\", \".\") for k in mesthres_cols],\n",
    "                         dtype=float)\n",
    "\n",
    "# Lines to change for different stellar parameters.\n",
    "#var_names = [\"koi_period\", \"koi_prad\", \"rrmscdpp06p0\"]\n",
    "var_names = [\"koi_period\", \"koi_prad\", \"teff\"]\n",
    "#c_rng = (min(stlr.rrmscdpp06p0.values), 750)  # CDPP\n",
    "c_rng = (4200, 6101)  # Teff\n",
    "\n",
    "period_rng = (50, 300)\n",
    "rp_rng = (0.75, 2.5)\n",
    "\n",
    "ranges = [period_rng, rp_rng, c_rng]\n",
    "stlr, kois = selection(stlr, ranges)\n",
    "\n",
    "nbins = [9, 11, 10]\n",
    "bins = plot_obs_and_get_bin_edges(var_names, nbins, ranges)"
   ]
  },
  {
   "cell_type": "code",
   "execution_count": 81,
   "metadata": {
    "collapsed": false
   },
   "outputs": [
    {
     "name": "stdout",
     "output_type": "stream",
     "text": [
      "[ 4200.          4411.11111111  4622.22222222  4833.33333333  5044.44444444\n",
      "  5255.55555556  5466.66666667  5677.77777778  5888.88888889  6100.        ]\n"
     ]
    }
   ],
   "source": [
    "grid_points_per_bin = 2\n",
    "print(c_grid[0, 0, :])"
   ]
  },
  {
   "cell_type": "code",
   "execution_count": 147,
   "metadata": {
    "collapsed": false
   },
   "outputs": [],
   "source": [
    "comp, period_grid, rp_grid, c_grid = calc_completeness_for_each_star(ranges, nbins*grid_points_per_bin, \"teff\")"
   ]
  },
  {
   "cell_type": "code",
   "execution_count": 145,
   "metadata": {
    "collapsed": false
   },
   "outputs": [
    {
     "data": {
      "image/png": "[encoded data removed]",
      "text/plain": [
       "<matplotlib.figure.Figure at 0x126b0acc0>"
      ]
     },
     "metadata": {},
     "output_type": "display_data"
    },
    {
     "data": {
      "image/png": "[encoded data removed]",
      "text/plain": [
       "<matplotlib.figure.Figure at 0x1049d37b8>"
      ]
     },
     "metadata": {},
     "output_type": "display_data"
    },
    {
     "data": {
      "image/png": "[encoded data removed]",
      "text/plain": [
       "<matplotlib.figure.Figure at 0x126b03ac8>"
      ]
     },
     "metadata": {},
     "output_type": "display_data"
    }
   ],
   "source": [
    "grid = [period_grid, rp_grid, c_grid]\n",
    "plot_det_eff_3d(grid, comp, \"$T_{\\mathrm{eff}}[K]$\")"
   ]
  },
  {
   "cell_type": "code",
   "execution_count": null,
   "metadata": {
    "collapsed": true
   },
   "outputs": [],
   "source": []
  }
 ],
 "metadata": {
  "anaconda-cloud": {},
  "kernelspec": {
   "display_name": "Python [conda root]",
   "language": "python",
   "name": "conda-root-py"
  },
  "language_info": {
   "codemirror_mode": {
    "name": "ipython",
    "version": 3
   },
   "file_extension": ".py",
   "mimetype": "text/x-python",
   "name": "python",
   "nbconvert_exporter": "python",
   "pygments_lexer": "ipython3",
   "version": "3.5.2"
  }
 },
 "nbformat": 4,
 "nbformat_minor": 1
}
