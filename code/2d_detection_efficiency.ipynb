{
 "cells": [
  {
   "cell_type": "code",
   "execution_count": 1,
   "metadata": {
    "collapsed": false
   },
   "outputs": [],
   "source": [
    "import os\n",
    "import matplotlib.pyplot as pl\n",
    "import numpy as np\n",
    "%matplotlib inline\n",
    "import pandas as pd\n",
    "\n",
    "from __future__ import division, print_function\n",
    "import os\n",
    "import requests\n",
    "from io import StringIO, BytesIO\n",
    "\n",
    "from scipy.stats import gamma\n",
    "\n",
    "from detection_efficiency_functions import *\n",
    "from data_wrangling import *\n",
    "from plotting import *"
   ]
  },
  {
   "cell_type": "markdown",
   "metadata": {},
   "source": [
    "The completeness functions that are specific to 2 dimensions."
   ]
  },
  {
   "cell_type": "code",
   "execution_count": 2,
   "metadata": {
    "collapsed": false
   },
   "outputs": [
    {
     "ename": "SyntaxError",
     "evalue": "invalid syntax (<ipython-input-2-a67e8615365d>, line 33)",
     "output_type": "error",
     "traceback": [
      "\u001b[0;36m  File \u001b[0;32m\"<ipython-input-2-a67e8615365d>\"\u001b[0;36m, line \u001b[0;32m33\u001b[0m\n\u001b[0;31m    mesthres_vals with_geom=True)\u001b[0m\n\u001b[0m                          ^\u001b[0m\n\u001b[0;31mSyntaxError\u001b[0m\u001b[0;31m:\u001b[0m invalid syntax\n"
     ]
    }
   ],
   "source": [
    "def get_completeness(star, period, rp, e, cdpp_cols, cdpp_vals, pgam, mesthres_cols, \n",
    "                     mesthres_vals, with_geom=True):\n",
    "    \"\"\"\n",
    "    A helper function to combine all the completeness effects.\n",
    "    \n",
    "    :param star:      a pandas row giving the stellar properties\n",
    "    :param period:    the period in days\n",
    "    :param c_grid:    the stellar property grid\n",
    "    :param c:         the stellar property of this star.\n",
    "    :param rp:        the planet radius in Earth radii\n",
    "    :param e:         the orbital eccentricity\n",
    "    :param with_geom: include the geometric transit probability?\n",
    "    \n",
    "    \"\"\"\n",
    "    aor = get_a(period, star.mass) / star.radius\n",
    "    pdet = get_pdet(star, aor, period, rp, e, cdpp_cols, cdpp_vals, pgam, mesthres_cols, \n",
    "                    mesthres_vals)\n",
    "    pwin = get_pwin(star, period)\n",
    "    if not with_geom:\n",
    "        return pdet * pwin\n",
    "    pgeom = get_pgeom(aor, e)\n",
    "    return pdet * pwin * pgeom\n",
    "\n",
    "\n",
    "def calc_completeness_for_each_star(ranges, grid_sizes, cdpp_cols, cdpp_vals, pgam, mesthres_cols, \n",
    "                                    mesthres_vals):    \n",
    "    x = np.linspace(ranges[0][0], ranges[0][1], grid_sizes[0])\n",
    "    y = np.linspace(ranges[1][0], ranges[1][1], grid_sizes[1])\n",
    "    xgrid, ygrid = np.meshgrid(x, y, indexing=\"ij\")\n",
    "    comp = np.zeros_like(xgrid)\n",
    "    for _, star in stlr.iterrows():\n",
    "        comp += get_completeness(star, xgrid, ygrid, 0.0, cdpp_cols, cdpp_vals, pgam, mesthres_cols, \n",
    "                                 mesthres_vals with_geom=True)\n",
    "    return comp/len(stlr), xgrid, ygrid"
   ]
  },
  {
   "cell_type": "code",
   "execution_count": null,
   "metadata": {
    "collapsed": false
   },
   "outputs": [],
   "source": [
    "stlr = get_catalog(\"q1_q16_stellar\")\n",
    "\n",
    "cdpp_cols = [k for k in stlr.keys() if k.startswith(\"rrmscdpp\")]\n",
    "cdpp_vals = np.array([k[-4:].replace(\"p\", \".\") for k in cdpp_cols], dtype=float)\n",
    "\n",
    "# Pre-compute and freeze the gamma function from Equation (5) in\n",
    "# Burke et al.\n",
    "pgam = gamma(4.65, loc=0., scale=0.98)\n",
    "mesthres_cols = [k for k in stlr.keys() if k.startswith(\"mesthres\")]\n",
    "mesthres_vals = np.array([k[-4:].replace(\"p\", \".\") for k in mesthres_cols],\n",
    "                         dtype=float)\n",
    "\n",
    "\n",
    "var_names = [\"koi_period\", \"koi_prad\"]\n",
    "period_rng = (50, 300)\n",
    "rp_rng = (0.75, 2.5)\n",
    "\n",
    "ranges = [period_rng, rp_rng]\n",
    "stlr, kois = selection(stlr, ranges)\n",
    "\n",
    "nbins = [9, 11]\n",
    "bins = plot_obs_and_get_bin_edges(kois, var_names, nbins, ranges)"
   ]
  },
  {
   "cell_type": "markdown",
   "metadata": {},
   "source": [
    "Calculate the completeness over period and radius."
   ]
  },
  {
   "cell_type": "code",
   "execution_count": null,
   "metadata": {
    "collapsed": false
   },
   "outputs": [],
   "source": [
    "grid_points_per_bin = 2\n",
    "comp, period_grid, rp_grid = calc_completeness_for_each_star(ranges, nbins*grid_points_per_bin, \n",
    "                                                             cdpp_cols, cdpp_vals, pgam, mesthres_cols, \n",
    "                                                             mesthres_vals)"
   ]
  },
  {
   "cell_type": "code",
   "execution_count": null,
   "metadata": {
    "collapsed": true
   },
   "outputs": [],
   "source": []
  }
 ],
 "metadata": {
  "kernelspec": {
   "display_name": "Python [conda root]",
   "language": "python",
   "name": "conda-root-py"
  },
  "language_info": {
   "codemirror_mode": {
    "name": "ipython",
    "version": 3
   },
   "file_extension": ".py",
   "mimetype": "text/x-python",
   "name": "python",
   "nbconvert_exporter": "python",
   "pygments_lexer": "ipython3",
   "version": "3.5.2"
  }
 },
 "nbformat": 4,
 "nbformat_minor": 1
}
